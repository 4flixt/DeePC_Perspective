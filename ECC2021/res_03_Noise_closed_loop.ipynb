{
 "cells": [
  {
   "cell_type": "markdown",
   "metadata": {},
   "source": [
    "# Non-Deterministic case: DeePC vs. SPC\n",
    "\n",
    "Comparing the closed-loop cost and computation time.\n",
    "\n",
    "This notebook is used to create the results for **Table 1** in our paper."
   ]
  },
  {
   "cell_type": "code",
   "execution_count": 1,
   "metadata": {},
   "outputs": [],
   "source": [
    "import numpy as np\n",
    "import matplotlib.pyplot as plt\n",
    "import matplotlib as mpl\n",
    "import scipy.io as sio\n",
    "from casadi import *\n",
    "from casadi.tools import *\n",
    "import time"
   ]
  },
  {
   "cell_type": "code",
   "execution_count": 2,
   "metadata": {},
   "outputs": [],
   "source": [
    "# Random seed:\n",
    "np.random.seed(1234)"
   ]
  },
  {
   "cell_type": "code",
   "execution_count": 3,
   "metadata": {},
   "outputs": [],
   "source": [
    "# Customizing Matplotlib:\n",
    "mpl.rcParams['font.size'] = 18\n",
    "mpl.rcParams['lines.linewidth'] = 3\n",
    "mpl.rcParams['axes.grid'] = True\n",
    "mpl.rcParams['svg.fonttype'] = 'none'\n",
    "mpl.rcParams['axes.unicode_minus'] = 'true'\n",
    "mpl.rcParams['axes.labelsize'] = 'large'\n",
    "mpl.rcParams['legend.fontsize'] = 'large'\n",
    "mpl.rcParams['xtick.labelsize'] = 'large'\n",
    "mpl.rcParams['ytick.labelsize'] = 'large'\n",
    "mpl.rcParams['axes.labelpad'] = 6"
   ]
  },
  {
   "cell_type": "markdown",
   "metadata": {},
   "source": [
    "##  System description\n",
    "\n",
    "\n",
    "We  now introduce the following linear system subject to zero-mean Gaussian noise $w_k\\sim \\mathcal{N}(0,\\sigma_w^2 I)$:\n",
    "\n",
    "\\begin{align}\n",
    "x_{k+1} &= Ax_k + Bu_k\\\\\n",
    "y_k &= Cx_k+Du_k+w_k,\n",
    "\\end{align}\n",
    "\n",
    "with $x \\in \\mathbb{R}^n$ (states), $u\\in \\mathbb{R}^m$ (inputs), $y\\in \\mathbb{R}^p$ (measurements) and system matrices $A \\in \\mathbb{R}^{n\\times n}$, $B \\in \\mathbb{R}^{n\\times m}$, $C \\in \\mathbb{R}^{p\\times n}$ and $D \\in \\mathbb{R}^{p\\times m}$.\n",
    "\n",
    "The investigated system, displayed below, is a triple-mass-spring system (rotating discs) with two stepper motors ($m=2$) attached to the outermost discs via additional springs. These disc angles are the measured output of the system ($p=3$). The system has a total of $n=8$ states."
   ]
  },
  {
   "cell_type": "markdown",
   "metadata": {},
   "source": [
    "<img src=\"sources/triple_mass_spring.pdf\" width=40%/>"
   ]
  },
  {
   "cell_type": "markdown",
   "metadata": {},
   "source": [
    "To simulate the system, we created a very simple helper class, that keeps the current state and stores the past sequences of inputs, states and outputs.\n",
    "\n",
    "We import the system class with:"
   ]
  },
  {
   "cell_type": "code",
   "execution_count": 4,
   "metadata": {},
   "outputs": [],
   "source": [
    "import sys\n",
    "# Add subfolder sources to path.\n",
    "sys.path.append('./sources')\n",
    "# Import class 'System' from file System.py\n",
    "from System import System, random_u"
   ]
  },
  {
   "cell_type": "markdown",
   "metadata": {},
   "source": [
    "In contrast to our notebook ``res_01_woNoise.ipynb`` we also import here the helper function ``random_u`` to stimulate the system with an PRBS-like input."
   ]
  },
  {
   "cell_type": "markdown",
   "metadata": {},
   "source": [
    "Import system matrices, $A,B,C,D$ and create instance of ``System``:"
   ]
  },
  {
   "cell_type": "code",
   "execution_count": 5,
   "metadata": {},
   "outputs": [],
   "source": [
    "sys_dc = sio.loadmat('./sources/sys_dc.mat')\n",
    "A = sys_dc['A_dc']\n",
    "B = sys_dc['B_dc']\n",
    "C = sys_dc['C']\n",
    "D = sys_dc['D']\n",
    "\n",
    "sys = System(A,B,C,D)"
   ]
  },
  {
   "cell_type": "markdown",
   "metadata": {},
   "source": [
    "# DeePC vs. SPC"
   ]
  },
  {
   "cell_type": "markdown",
   "metadata": {},
   "source": [
    "## Data collection\n",
    "\n",
    "Both methods require a measured system response for persistantly exciting input data, depending on the parameters:\n",
    "$T_{\\text{ini}}$ and $N$.\n",
    "The total number of measured sequences depends on these parameters and must exceed the thresholds given by Assumption 1, 2 and 3 in the paper. \n",
    "\n",
    "We first set the fixed parameters. **Note that we also set $\\sigma_w$, the standard deviation of $w$**."
   ]
  },
  {
   "cell_type": "code",
   "execution_count": 6,
   "metadata": {},
   "outputs": [],
   "source": [
    "T_ini = 4\n",
    "N = 40\n",
    "\n",
    "L = T_ini + N\n",
    "\n",
    "n_u = sys.n_u\n",
    "n_y = sys.n_y\n",
    "\n",
    "sig_w = 1e-2"
   ]
  },
  {
   "cell_type": "markdown",
   "metadata": {},
   "source": [
    "Create matrices $U_L$ and $Y_L$ according to (2) in the paper. Note that we construct the data matrices which are neither Hankel nor Page matrices. Instead we \"measure\" independent sequences each with **random initial state**.\n",
    "\n",
    "In contrast to our notebook ``res_01_woNoise`` we define here a function to obtain these matrices in dependence of the parameter ``T`` (number of sequences) and ``sig_w``."
   ]
  },
  {
   "cell_type": "code",
   "execution_count": 7,
   "metadata": {},
   "outputs": [],
   "source": [
    "def get_data_matrices(T, sig_w):\n",
    "    U_L = []\n",
    "    Y_L = []\n",
    "    \n",
    "    sys = System(A,B,C,D)\n",
    "\n",
    "    u0 = np.zeros((2,1))\n",
    "\n",
    "    for k in range(T):\n",
    "        x0 = np.random.randn(8,1)\n",
    "        sys.reset(x0)\n",
    "\n",
    "\n",
    "        for k in range(L):\n",
    "            u0 = random_u(u0)\n",
    "            sys.make_step(u0)\n",
    "\n",
    "        U_L.append(sys.u.reshape(-1,1))\n",
    "        Y_L.append(sys.y.reshape(-1,1))\n",
    "\n",
    "    U_L = np.concatenate(U_L,axis=1)\n",
    "    Y_L = np.concatenate(Y_L,axis=1)\n",
    "\n",
    "    # Add noise to Data:\n",
    "    Y_L = Y_L+np.random.randn(*Y_L.shape)*sig_w\n",
    "\n",
    "    assert np.linalg.matrix_rank(U_L) == U_L.shape[0], \"not persistantly exciting.\"\n",
    "    \n",
    "    return U_L, Y_L"
   ]
  },
  {
   "cell_type": "markdown",
   "metadata": {},
   "source": [
    "## SPC\n",
    "\n",
    "We now define functions that return the configured optimal control problems for DeePC and SPC based on the multi-step prediction model.\n",
    "\n",
    "These functions depend on $U_L$ and $Y_L$.\n",
    "\n",
    "The optimization problem for SPC is:\n",
    "\n",
    "\\begin{align}\n",
    "    \\min_{u_N,y_N, \\sigma_{y}, \\sigma_{u}}\\quad &\\sum_{k=1}^N \\left(\\|y_k\\|^2_{Q}+\\|u_k\\|^2_{R}\\right)\n",
    "    +\\lambda_{\\sigma_y}\\|\\sigma_{y}\\|_2^2 +\\lambda_{\\sigma_u}\\|\\sigma_{u}\\|_2^2\\\\\n",
    "    \\text{s.t.}\\quad &\n",
    "    y_N = \n",
    "    \\tilde P^*\n",
    "    \\left(\n",
    "    \\begin{bmatrix}\n",
    "        y_{T_{\\text{ini}}}\\\\\n",
    "        u_{T_{\\text{ini}}}\\\\\n",
    "        u_{N},\n",
    "    \\end{bmatrix}+\n",
    "    \\begin{bmatrix}\n",
    "        \\sigma_y\\\\\n",
    "        \\sigma_u\\\\\n",
    "        0,\n",
    "    \\end{bmatrix}\n",
    "    \\right)\n",
    "    \\\\\n",
    "    &u_k \\in \\mathbb{U},\\ \\forall k\\in \\{1,\\dots,N\\},\t\\\\\n",
    "    &y_k \\in \\mathbb{Y},\\ \\forall k\\in \\{1,\\dots,N\\}.\t\\\\\n",
    "\\end{align}"
   ]
  },
  {
   "cell_type": "code",
   "execution_count": 8,
   "metadata": {},
   "outputs": [],
   "source": [
    "def setup_SPC(U_L, Y_L):\n",
    "    # Sys ID:\n",
    "    U_Tini, U_N = np.split(U_L, [n_u*T_ini],axis=0)\n",
    "    Y_Tini, Y_N = np.split(Y_L, [n_y*T_ini],axis=0)\n",
    "    \n",
    "    M = np.concatenate((Y_Tini, U_Tini, U_N))\n",
    "\n",
    "    P = Y_N@np.linalg.pinv(M)\n",
    "    \n",
    "    # Create optimization variables:\n",
    "    opt_x = struct_symMX([\n",
    "        entry('y_N', shape=(n_y), repeat=N),\n",
    "        entry('u_N', shape=(n_u), repeat=N),\n",
    "        entry('sig_y', shape=(n_y), repeat=T_ini),\n",
    "        entry('sig_u', shape=(n_u), repeat=T_ini)\n",
    "    ])\n",
    "\n",
    "    # Create parameters of the optimization problem\n",
    "    opt_p = struct_symMX([\n",
    "        entry('u_Tini', shape=(n_u), repeat=T_ini),\n",
    "        entry('y_Tini', shape=(n_y), repeat=T_ini),\n",
    "    ])\n",
    "\n",
    "    # Create numerical instances of the structures (holding all zeros as entries)\n",
    "    opt_x_num = opt_x(0)\n",
    "    opt_p_num = opt_p(0)\n",
    "    \n",
    "    # Create the objective:\n",
    "    obj = 0\n",
    "    for k in range(N):\n",
    "        obj += sum1(opt_x['y_N',k]**2)+0.1*sum1(opt_x['u_N', k]**2)\n",
    "        \n",
    "    for k in range(T_ini):\n",
    "        obj += 1e4*sum1(opt_x['sig_u',k]**2)+1e4*sum1(opt_x['sig_y',k]**2)\n",
    "\n",
    "\n",
    "    # Create the constraints:\n",
    "    b = vertcat(*opt_p['y_Tini'], *opt_p['u_Tini'], np.zeros((N*n_u,1)))\n",
    "    v = vertcat(*opt_x['sig_y'], *opt_x['sig_u'], *opt_x['u_N'])\n",
    "    y_N = vertcat(*opt_x['y_N'])\n",
    "    cons = P@(b+v)-y_N\n",
    "\n",
    "\n",
    "    # Create lower and upper bound structures and set all values to plus/minus infinity.\n",
    "    lbx = opt_x(-np.inf)\n",
    "    ubx = opt_x(np.inf)\n",
    "\n",
    "    # Set only bounds on u_N\n",
    "    lbx['u_N'] = -0.7\n",
    "    ubx['u_N'] = 0.7\n",
    "\n",
    "\n",
    "    # Create Optim\n",
    "    nlp = {'x':opt_x, 'f':obj, 'g':cons, 'p':opt_p}\n",
    "    S_spc = nlpsol('S', 'ipopt', nlp)\n",
    "    \n",
    "    return S_spc, opt_x_num, opt_p_num, lbx, ubx"
   ]
  },
  {
   "cell_type": "markdown",
   "metadata": {},
   "source": [
    "## DeePC problem\n",
    "\n",
    "For the non-deterministic case we implement the adapted DeePC problem:\n",
    "\n",
    "\\begin{aligned}\n",
    "\t\\min_{\n",
    "\t\tg,u_N, y_N, \\sigma_{y}, \\sigma_{u}\n",
    "\t}\\quad &\n",
    "\t\\sum_{k=1}^N \\left(\\|y_k\\|^2_{Q}+\\|u_k\\|^2_{R}\\right)\n",
    "\t+\\lambda_g \\|g\\|_2^2+\\lambda_{\\sigma_y}\\|\\sigma_{y}\\|_2^2 +\\lambda_{\\sigma_u}\\|\\sigma_{u}\\|_2^2\\\\\n",
    "\t\\text{s.t.}\\quad & \n",
    "\t\\left[\\begin{array}{c}\n",
    "\t\\tilde Y_{T_\\text{ini}}\\\\\n",
    "\tU_{T_\\text{ini}}\\\\\n",
    "\tU_{N}\\\\\n",
    "\t\\tilde Y_N\n",
    "\t\\end{array}\\right] g \n",
    "\t= \n",
    "\t\\left[\\begin{array}{c}\n",
    "\ty_{T_\\text{ini}}\\\\\n",
    "\tu_{T_\\text{ini}}\\\\\n",
    "\tu_{N}\\\\\n",
    "\ty_N\n",
    "\t\\end{array}\\right]\n",
    "\t+\n",
    "\t\\left[\\begin{array}{c}\n",
    "\t\\sigma_{y}\\\\\n",
    "\t\\sigma_{u}\\\\\n",
    "\t0\\\\\n",
    "\t0\n",
    "\t\\end{array}\\right]\n",
    "\t,\\\\\n",
    "\t&u_k \\in \\mathbb{U}\\ \\forall k\\in\\{1,\\dots,N\\},\t\\\\\n",
    "\t&y_k \\in \\mathbb{Y}\\ \\forall k\\in\\{1,\\dots,N\\}. \\\\\n",
    "\\end{aligned}\n",
    "\n",
    "Also note that the optimizer is configured such that the parameter $\\lambda_g$ can be set later. "
   ]
  },
  {
   "cell_type": "code",
   "execution_count": 9,
   "metadata": {},
   "outputs": [],
   "source": [
    "def setup_DeePC(U_L, Y_L, T):\n",
    "    # Configure data\n",
    "    U_Tini, U_N = np.split(U_L, [n_u*T_ini],axis=0)\n",
    "    Y_Tini, Y_N = np.split(Y_L, [n_y*T_ini],axis=0)\n",
    "    M = np.concatenate((Y_Tini, U_Tini, U_N))\n",
    "    \n",
    "    # Define optim variables\n",
    "    opt_x_dpc = struct_symMX([\n",
    "    entry('g', shape=(T)),\n",
    "    entry('u_N', shape=(n_u), repeat=N),\n",
    "    entry('y_N', shape=(n_y), repeat=N),\n",
    "    entry('sig_y', shape=(n_y), repeat=T_ini),\n",
    "    entry('sig_u', shape=(n_u), repeat=T_ini)\n",
    "    ])\n",
    "\n",
    "    opt_p_dpc = struct_symMX([\n",
    "        entry('u_Tini', shape=(n_u), repeat=T_ini),\n",
    "        entry('y_Tini', shape=(n_y), repeat=T_ini),\n",
    "        entry('lam_g'),\n",
    "    ])\n",
    "\n",
    "    opt_x_num_dpc = opt_x_dpc(0)\n",
    "    opt_p_num_dpc = opt_p_dpc(0)\n",
    "    \n",
    "\n",
    "    obj = 0\n",
    "    for k in range(N):\n",
    "        obj += sum1(opt_x_dpc['y_N',k]**2)+0.1*sum1(opt_x_dpc['u_N', k]**2)\n",
    "    \n",
    "    for k in range(T_ini):\n",
    "        obj += 1e4*sum1(opt_x_dpc['sig_u',k]**2)+1e4*sum1(opt_x_dpc['sig_y',k]**2)\n",
    "    \n",
    "    obj += opt_p_dpc['lam_g']*sum1(opt_x_dpc['g']**2)\n",
    "\n",
    "\n",
    "    # Create the constraints:\n",
    "    b = vertcat(*opt_p_dpc['y_Tini'], *opt_p_dpc['u_Tini'], DM.zeros((N*n_u,1)))\n",
    "    v = vertcat(*opt_x_dpc['sig_y'], *opt_x_dpc['sig_u'], *opt_x_dpc['u_N'])\n",
    "    y_N = vertcat(*opt_x_dpc['y_N'])\n",
    "    g = opt_x_dpc['g']\n",
    "    \n",
    "    cons = vertcat(\n",
    "        M@g-b-v,\n",
    "        Y_N@g-y_N\n",
    "    )\n",
    "    \n",
    "    # Create lower and upper bound structures and set all values to plus/minus infinity.\n",
    "    lbx_dpc = opt_x_dpc(-np.inf)\n",
    "    ubx_dpc = opt_x_dpc(np.inf)\n",
    "\n",
    "\n",
    "    # Set only bounds on u_N\n",
    "    lbx_dpc['u_N'] = -0.7\n",
    "    ubx_dpc['u_N'] = 0.7\n",
    "\n",
    "    # Create Optim\n",
    "    nlp = {'x':opt_x_dpc, 'f':obj, 'g':cons, 'p':opt_p_dpc}\n",
    "    S_dpc = nlpsol('S', 'ipopt', nlp)\n",
    "    \n",
    "    return S_dpc, opt_x_num_dpc, opt_p_num_dpc, lbx_dpc, ubx_dpc\n",
    "    "
   ]
  },
  {
   "cell_type": "markdown",
   "metadata": {},
   "source": [
    "# Closed-loop comparison:"
   ]
  },
  {
   "cell_type": "markdown",
   "metadata": {},
   "source": [
    "We check the closed-loop performance for $T=\\{100,150,200\\}$ and choose ``N_sim=60`` (number of closed-loop steps). Furthermore, every run is repeated ``N_exp=10`` times to compute average performances and computation times. "
   ]
  },
  {
   "cell_type": "code",
   "execution_count": 10,
   "metadata": {},
   "outputs": [],
   "source": [
    "T_arr = [100, 150, 200]\n",
    "N_sim = 60\n",
    "N_exp = 10"
   ]
  },
  {
   "cell_type": "markdown",
   "metadata": {},
   "source": [
    "### DeePC"
   ]
  },
  {
   "cell_type": "markdown",
   "metadata": {},
   "source": [
    "For every choosen $T$, we repeat ``N_sim`` times the following procedure:\n",
    "\n",
    "1. Set the random seed such that the input sequence is always identical.\n",
    "2. Stimulate the system with the (pseudo) random sequence. \n",
    "3. Obtain the initial condition of the system ($u_{T_{\\text{ini}}},\\ y_{T_{\\text{ini}}}$). These are always the same.\n",
    "4. Restore randomness (otherwise the experiments would be identical)\n",
    "5. Get data matrices $U_L$ and $Y_L$ for the choosen value of $T$.\n",
    "6. Get **DeePC optimizer** for these data matrices\n",
    "7. Run the control-loop with noise on the measured output."
   ]
  },
  {
   "cell_type": "code",
   "execution_count": 11,
   "metadata": {},
   "outputs": [],
   "source": [
    "%%capture\n",
    "res_deePC = []\n",
    "for T in T_arr:\n",
    "        \n",
    "    # Repeat experiment 10 times.\n",
    "    res = []\n",
    "    for i in range(N_exp):\n",
    "        np.random.seed(12)\n",
    "        sys.reset(x0=np.zeros((8,1)))\n",
    "        # Excitement\n",
    "        n_exc = 20\n",
    "        u0 = np.zeros((2,1))\n",
    "        for k in range(n_exc):\n",
    "            u0 = random_u(u0)\n",
    "            sys.make_step(u0)\n",
    "        \n",
    "        for p in range(i):\n",
    "            # Restore randomness.\n",
    "            np.random.randn()\n",
    "\n",
    "        U_L, Y_L = get_data_matrices(T, sig_w)\n",
    "\n",
    "        S_dpc, opt_x_num_dpc, opt_p_num_dpc, lbx, ubx = setup_DeePC(U_L,Y_L,T)\n",
    "        \n",
    "        opt_p_num_dpc['lam_g'] = 1\n",
    "\n",
    "        cost = []\n",
    "        t_calc = []\n",
    "        for k in range(N_sim):\n",
    "\n",
    "            y_Tini = sys.y[-T_ini:,:]+sig_w*np.random.randn(T_ini,n_y)\n",
    "            u_Tini = sys.u[-T_ini:,:]\n",
    "\n",
    "            opt_p_num_dpc['y_Tini'] = vertsplit(y_Tini)\n",
    "            opt_p_num_dpc['u_Tini'] = vertsplit(u_Tini)\n",
    "\n",
    "            tic = time.time()\n",
    "            r = S_dpc(p=opt_p_num_dpc, lbg=0, ubg=0, lbx=lbx, ubx=ubx)\n",
    "            toc = time.time()\n",
    "\n",
    "            opt_x_num_dpc.master = r['x']    \n",
    "        \n",
    "            u0 = opt_x_num_dpc['u_N',0].full().reshape(-1,1)\n",
    "            y0 = sys.make_step(u0)\n",
    "\n",
    "            cost.append(.1*u0.T@u0+y0.T@y0)\n",
    "            t_calc.append(toc-tic)\n",
    "\n",
    "\n",
    "        res.append({'time':sys.time[n_exc:], 'u':sys.u[n_exc:], 'y':sys.y[n_exc:], 'cost': np.concatenate(cost),'t_calc': np.array(t_calc)})\n",
    "        \n",
    "    res_deePC.append(res)"
   ]
  },
  {
   "cell_type": "markdown",
   "metadata": {},
   "source": [
    "### SPC\n",
    "For every choosen $T$, we repeat ``N_sim`` times the following procedure:\n",
    "\n",
    "1. Set the random seed such that the input sequence is always identical.\n",
    "2. Stimulate the system with the (pseudo) random sequence. \n",
    "3. Obtain the initial condition of the system ($u_{T_{\\text{ini}}},\\ y_{T_{\\text{ini}}}$). These are always the same.\n",
    "4. Restore randomness (otherwise the experiments would be identical)\n",
    "5. Get data matrices $U_L$ and $Y_L$ for the choosen value of $T$.\n",
    "6. Get **MPC based on multi-step prediction model** optimizer for these data matrices (with system identification)\n",
    "7. Run the control-loop with noise on the measured output."
   ]
  },
  {
   "cell_type": "code",
   "execution_count": 12,
   "metadata": {},
   "outputs": [],
   "source": [
    "%%capture\n",
    "res_SPC = []\n",
    "for T in T_arr:\n",
    "        \n",
    "    # Repeat experiment 10 times.\n",
    "    res = []\n",
    "    for i in range(N_exp):\n",
    "        np.random.seed(12)\n",
    "        sys.reset(x0=np.zeros((8,1)))\n",
    "        # Excitement\n",
    "        n_exc = 20\n",
    "        u0 = np.zeros((2,1))\n",
    "        for k in range(n_exc):\n",
    "            u0 = random_u(u0)\n",
    "            sys.make_step(u0)\n",
    "        \n",
    "        for p in range(i):\n",
    "            # Restore randomness.\n",
    "            np.random.randn()\n",
    "\n",
    "        U_L, Y_L = get_data_matrices(T, sig_w)\n",
    "\n",
    "        S_mpc, opt_x_num, opt_p_num, lbx, ubx = setup_SPC(U_L,Y_L)\n",
    "\n",
    "        cost = []\n",
    "        t_calc = []\n",
    "        for k in range(N_sim):\n",
    "\n",
    "            y_ini = sys.y[-T_ini:,:]+sig_w*np.random.randn(T_ini,n_y)\n",
    "            u_ini = sys.u[-T_ini:,:]\n",
    "\n",
    "            opt_p_num['y_Tini'] = vertsplit(y_ini)\n",
    "            opt_p_num['u_Tini'] = vertsplit(u_ini)\n",
    "\n",
    "            tic = time.time()\n",
    "            r = S_mpc(p=opt_p_num, lbg=0, ubg=0, lbx=lbx, ubx=ubx)\n",
    "            toc = time.time()\n",
    "\n",
    "            opt_x_num.master = r['x']  \n",
    "\n",
    "            u0 = opt_x_num['u_N',0].full().reshape(-1,1)\n",
    "            y0 = sys.make_step(u0)\n",
    "\n",
    "            cost.append(.1*u0.T@u0+y0.T@y0)\n",
    "            t_calc.append(toc-tic)\n",
    "\n",
    "\n",
    "        res.append({'time':sys.time[n_exc:], 'u':sys.u[n_exc:], 'y':sys.y[n_exc:], 'cost': np.concatenate(cost),'t_calc': np.array(t_calc)})\n",
    "        \n",
    "    res_SPC.append(res)"
   ]
  },
  {
   "cell_type": "code",
   "execution_count": 13,
   "metadata": {},
   "outputs": [
    {
     "data": {
      "text/plain": [
       "{'mean_cost': [5.81, 5.64, 5.632],\n",
       " 'std_cost': [0.07, 0.005, 0.001],\n",
       " 'mean_t_calc': [20.06, 18.264, 17.6],\n",
       " 'std_t_calc': [0.882, 0.467, 0.264]}"
      ]
     },
     "execution_count": 13,
     "metadata": {},
     "output_type": "execute_result"
    }
   ],
   "source": [
    "result_summary_SPC= {'mean_cost':[],'std_cost':[], 'mean_t_calc':[], 'std_t_calc':[]}\n",
    "\n",
    "for res_i in res_SPC:\n",
    "    cost = [np.sum(res_ik['cost']) for res_ik in res_i]\n",
    "    t_calc = [np.mean(res_ik['t_calc']) for res_ik in res_i]\n",
    "    result_summary_SPC['mean_cost'].append(np.round(np.mean(cost),3))\n",
    "    result_summary_SPC['std_cost'].append(np.round(np.std(cost),3))\n",
    "    result_summary_SPC['mean_t_calc'].append(np.round(np.mean(t_calc)*1e3,3))\n",
    "    result_summary_SPC['std_t_calc'].append(np.round(np.std(t_calc)*1e3,3))\n",
    "    \n",
    "result_summary_SPC"
   ]
  },
  {
   "cell_type": "code",
   "execution_count": 14,
   "metadata": {},
   "outputs": [
    {
     "data": {
      "text/plain": [
       "{'mean_cost': [5.924, 5.674, 5.662],\n",
       " 'std_cost': [0.086, 0.012, 0.006],\n",
       " 'mean_t_calc': [39.211, 53.567, 75.105],\n",
       " 'std_t_calc': [1.318, 1.903, 2.848]}"
      ]
     },
     "execution_count": 14,
     "metadata": {},
     "output_type": "execute_result"
    }
   ],
   "source": [
    "result_summary_deePC= {'mean_cost':[],'std_cost':[], 'mean_t_calc':[], 'std_t_calc':[]}\n",
    "\n",
    "for res_i in res_deePC:\n",
    "    cost = [np.sum(res_ik['cost']) for res_ik in res_i]\n",
    "    t_calc = [np.mean(res_ik['t_calc']) for res_ik in res_i]\n",
    "    result_summary_deePC['mean_cost'].append(np.round(np.mean(cost),3))\n",
    "    result_summary_deePC['std_cost'].append(np.round(np.std(cost),3))\n",
    "    result_summary_deePC['mean_t_calc'].append(np.round(np.mean(t_calc)*1e3,3))\n",
    "    result_summary_deePC['std_t_calc'].append(np.round(np.std(t_calc)*1e3,3))\n",
    "    \n",
    "result_summary_deePC"
   ]
  },
  {
   "cell_type": "markdown",
   "metadata": {},
   "source": [
    "We can also investigate why the cost for our propsed method is lower than with DeePC in the case for $T=100$, even though **Figure 2** in the paper (open-loop prediction) suggests that DeePC with $\\lambda_g=1$ works fine in that case."
   ]
  },
  {
   "cell_type": "code",
   "execution_count": 15,
   "metadata": {
    "scrolled": false
   },
   "outputs": [
    {
     "data": {
      "text/plain": [
       "Text(0.5, 1.0, 'SPC')"
      ]
     },
     "execution_count": 15,
     "metadata": {},
     "output_type": "execute_result"
    },
    {
     "data": {
      "image/png": "[encoded data removed]",
      "text/plain": [
       "<Figure size 720x432 with 4 Axes>"
      ]
     },
     "metadata": {
      "needs_background": "light"
     },
     "output_type": "display_data"
    }
   ],
   "source": [
    "fig, ax = plt.subplots(2,2,sharex=True, sharey=True, figsize=(10,6))\n",
    "\n",
    "T_plot = 0\n",
    "\n",
    "ax[0,0].plot(res_deePC[T_plot][0]['y'])\n",
    "ax[0,1].plot(res_SPC[T_plot][0]['y'])\n",
    "\n",
    "ax[1,0].plot(res_deePC[T_plot][0]['u'])\n",
    "ax[1,1].plot(res_SPC[T_plot][0]['u'])\n",
    "\n",
    "ax[0,0].set_title('DeePC')\n",
    "ax[0,1].set_title('SPC')"
   ]
  },
  {
   "cell_type": "markdown",
   "metadata": {},
   "source": [
    "We see that the problem is the oscillatory behavior around the origin, which is present in both methods but more pronounced with DeePC."
   ]
  },
  {
   "cell_type": "markdown",
   "metadata": {},
   "source": [
    "## Further DeePC investigation\n",
    "Effect of $\\lambda_g$ for $T=150$."
   ]
  },
  {
   "cell_type": "code",
   "execution_count": 16,
   "metadata": {},
   "outputs": [],
   "source": [
    "lam_g_arr = [0.1, 10]\n",
    "T = 150"
   ]
  },
  {
   "cell_type": "code",
   "execution_count": 17,
   "metadata": {},
   "outputs": [],
   "source": [
    "%%capture\n",
    "res_deePC_T150 = []\n",
    "for lam_g in lam_g_arr:\n",
    "        \n",
    "    # Repeat experiment 10 times.\n",
    "    res = []\n",
    "    for i in range(N_exp):\n",
    "        np.random.seed(12)\n",
    "        sys.reset(x0=np.zeros((8,1)))\n",
    "        # Excitement\n",
    "        n_exc = 20\n",
    "        u0 = np.zeros((2,1))\n",
    "        for k in range(n_exc):\n",
    "            u0 = random_u(u0)\n",
    "            sys.make_step(u0)\n",
    "        \n",
    "        for p in range(i):\n",
    "            # Restore randomness.\n",
    "            np.random.randn()\n",
    "\n",
    "        U_L, Y_L = get_data_matrices(T, sig_w)\n",
    "\n",
    "        S_dpc, opt_x_num_dpc, opt_p_num_dpc, lbx, ubx = setup_DeePC(U_L,Y_L,T)\n",
    "        \n",
    "        opt_p_num_dpc['lam_g'] = lam_g\n",
    "\n",
    "        cost = []\n",
    "        t_calc = []\n",
    "        for k in range(N_sim):\n",
    "\n",
    "            y_Tini = sys.y[-T_ini:,:]+sig_w*np.random.randn(T_ini,n_y)\n",
    "            u_Tini = sys.u[-T_ini:,:]\n",
    "\n",
    "            opt_p_num_dpc['y_Tini'] = vertsplit(y_Tini)\n",
    "            opt_p_num_dpc['u_Tini'] = vertsplit(u_Tini)\n",
    "\n",
    "            tic = time.time()\n",
    "            r = S_dpc(p=opt_p_num_dpc, lbg=0, ubg=0, lbx=lbx, ubx=ubx)\n",
    "            toc = time.time()\n",
    "\n",
    "            opt_x_num_dpc.master = r['x']    \n",
    "        \n",
    "            u0 = opt_x_num_dpc['u_N',0].full().reshape(-1,1)\n",
    "            y0 = sys.make_step(u0)\n",
    "\n",
    "            cost.append(.1*u0.T@u0+y0.T@y0)\n",
    "            t_calc.append(toc-tic)\n",
    "\n",
    "\n",
    "        res.append({'time':sys.time[n_exc:], 'u':sys.u[n_exc:], 'y':sys.y[n_exc:], 'cost': np.concatenate(cost),'t_calc': np.array(t_calc)})\n",
    "        \n",
    "    res_deePC_T150.append(res)"
   ]
  },
  {
   "cell_type": "code",
   "execution_count": 14,
   "metadata": {},
   "outputs": [
    {
     "data": {
      "text/plain": [
       "{'mean_cost': [5.707, 5.984],\n",
       " 'std_cost': [0.015, 0.089],\n",
       " 'mean_t_calc': [50.84, 62.371],\n",
       " 'std_t_calc': [1.006, 2.042]}"
      ]
     },
     "execution_count": 14,
     "metadata": {},
     "output_type": "execute_result"
    }
   ],
   "source": [
    "result_summary_deePC_T150= {'mean_cost':[],'std_cost':[], 'mean_t_calc':[], 'std_t_calc':[]}\n",
    "\n",
    "for res_i in res_deePC_T150:\n",
    "    cost = [np.sum(res_ik['cost']) for res_ik in res_i]\n",
    "    t_calc = [np.mean(res_ik['t_calc']) for res_ik in res_i]\n",
    "    result_summary_deePC_T150['mean_cost'].append(np.round(np.mean(cost),3))\n",
    "    result_summary_deePC_T150['std_cost'].append(np.round(np.std(cost),3))\n",
    "    result_summary_deePC_T150['mean_t_calc'].append(np.round(np.mean(t_calc)*1e3,3))\n",
    "    result_summary_deePC_T150['std_t_calc'].append(np.round(np.std(t_calc)*1e3,3))\n",
    "    \n",
    "result_summary_deePC_T150"
   ]
  },
  {
   "cell_type": "code",
   "execution_count": null,
   "metadata": {},
   "outputs": [],
   "source": []
  }
 ],
 "metadata": {
  "kernelspec": {
   "display_name": "MLME_38",
   "language": "python",
   "name": "mlme_38"
  },
  "language_info": {
   "codemirror_mode": {
    "name": "ipython",
    "version": 3
   },
   "file_extension": ".py",
   "mimetype": "text/x-python",
   "name": "python",
   "nbconvert_exporter": "python",
   "pygments_lexer": "ipython3",
   "version": "3.8.8"
  }
 },
 "nbformat": 4,
 "nbformat_minor": 4
}
